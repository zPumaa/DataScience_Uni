{
 "cells": [
  {
   "cell_type": "markdown",
   "metadata": {},
   "source": [
    "#  COMP24112 Lab 2: News Article Classification by k-NN\n",
    "\n",
    "## 1. Task description\n",
    "\n",
    "You will work on a news article classification task.\n",
    "The provided dataset includes a total of 800 articles taken from Reuters newswire.\n",
    "They belong to 4 classes: \"earn\" (0), \"crude\" (1), \"trade\" (2) and \"interest\" (3).\n",
    "There are 200 articles per class.\n",
    "Each article is characterised by word occurrences.\n",
    "The list of used words is called a vocabulary.\n",
    "In our dataset, the vocabulary includes a total of 6428 words. "
   ]
  },
  {
   "cell_type": "markdown",
   "metadata": {},
   "source": [
    "## 2. Preparation\n",
    "\n",
    "First we need to import the data.\n",
    "Run the below cell to load the data using NumPy."
   ]
  },
  {
   "cell_type": "code",
   "execution_count": 18,
   "metadata": {},
   "outputs": [],
   "source": [
    "import numpy as np\n",
    "import matplotlib.pyplot as plt\n",
    "import scipy.sparse\n",
    "\n",
    "data, labels, class_names, vocabulary = np.load(\"ReutersNews_4Classes_sparse.npy\", allow_pickle=True)"
   ]
  },
  {
   "cell_type": "markdown",
   "metadata": {},
   "source": [
    "### A Note on Sparsity\n",
    "\n",
    "Most documents only contain a small subset of the vocabulary, resulting in a very sparse data matrix.\n",
    "To handle the sparsity, in this exercise `data` is represented as a `scipy.sparse.csr_matrix`, which can store sparse matrices efficiently while still allowing efficient row-based indexing.\n",
    "You can learn more about `csr_matrix` and other ways of dealing with sparse matrices at https://docs.scipy.org/doc/scipy/reference/sparse.html.\n",
    "\n",
    "Note, however, that `data` is **not** a normal NumPy array.\n",
    "While most operations will be the same as with a normal dense array, **you cannot use a sparse matrix to index another matrix**.\n",
    "If you need to do this, either first convert the matrix to a NumPy array with the `toarray()` method, or use methods specifically designed to work with sparse matrices."
   ]
  },
  {
   "cell_type": "code",
   "execution_count": 32,
   "metadata": {},
   "outputs": [
    {
     "name": "stdout",
     "output_type": "stream",
     "text": [
      "  (0, 2)\t1\n",
      "  (0, 3)\t3\n",
      "  (0, 5)\t1\n",
      "  (0, 8)\t1\n",
      "  (0, 10)\t1\n",
      "  (0, 11)\t1\n",
      "  (0, 12)\t1\n",
      "  (0, 13)\t1\n",
      "  (0, 21)\t2\n",
      "  (0, 24)\t1\n",
      "  (0, 105)\t1\n",
      "  (0, 127)\t1\n",
      "  (0, 227)\t1\n",
      "  (0, 275)\t1\n",
      "  (0, 334)\t2\n",
      "  (0, 341)\t1\n",
      "  (0, 348)\t1\n",
      "  (0, 359)\t1\n",
      "  (0, 411)\t1\n",
      "  (0, 426)\t1\n",
      "  (0, 1428)\t1\n",
      "  (0, 2058)\t1\n",
      "  (0, 5555)\t1\n",
      "[[0 0 1 ... 0 0 0]]\n",
      "['share' 'split' 'say' 'two-for-one' 'shareholder' 'annual' 'meeting'\n",
      " 'reuter' 'ct' 'note' 'company' 'pay' 'subject' 'increase' 'stock'\n",
      " 'dividend' 'april' 'northern' 'declare' 'approval' 'telecom' 'post-split'\n",
      " 'nt']\n"
     ]
    }
   ],
   "source": [
    "print(data[41,:]) # A sparse row vector; the output will be the non-zero indices and their values.\n",
    "print(data[41,:].toarray()) # Convert back to a NumPy array. Note that the result is a (1, 6428) matrix, not a vector.\n",
    "# print(vocabulary[data[41,:] > 0]) # Can't index vocabulary with a sparse matrix.\n",
    "rows, columns, values = scipy.sparse.find(data[41,:]) # Find the non-zero entries in the 42nd document.\n",
    "print(vocabulary[columns]) # Prints the words present in the 42nd document."
   ]
  },
  {
   "cell_type": "markdown",
   "metadata": {},
   "source": [
    "To see the full vocabulary, you can run"
   ]
  },
  {
   "cell_type": "code",
   "execution_count": 33,
   "metadata": {
    "scrolled": true
   },
   "outputs": [],
   "source": [
    "#print(\", \".join(vocabulary))"
   ]
  },
  {
   "cell_type": "markdown",
   "metadata": {},
   "source": [
    "You can see how many times article $i$ contains word $j$ using"
   ]
  },
  {
   "cell_type": "code",
   "execution_count": 34,
   "metadata": {},
   "outputs": [
    {
     "name": "stdout",
     "output_type": "stream",
     "text": [
      "4\n",
      "share\n"
     ]
    }
   ],
   "source": [
    "i, j = 40, 2\n",
    "print(data[i,j])\n",
    "print(vocabulary[2])"
   ]
  },
  {
   "cell_type": "markdown",
   "metadata": {},
   "source": [
    "You can see which class the $i$th article belongs to using"
   ]
  },
  {
   "cell_type": "code",
   "execution_count": 35,
   "metadata": {},
   "outputs": [
    {
     "name": "stdout",
     "output_type": "stream",
     "text": [
      "0\n"
     ]
    }
   ],
   "source": [
    "print(labels[i])"
   ]
  },
  {
   "cell_type": "markdown",
   "metadata": {},
   "source": [
    "For instance, by running"
   ]
  },
  {
   "cell_type": "code",
   "execution_count": 36,
   "metadata": {},
   "outputs": [
    {
     "name": "stdout",
     "output_type": "stream",
     "text": [
      "Occurrences: 2\n",
      "Class: earn\n",
      "Word: shareholder\n"
     ]
    }
   ],
   "source": [
    "print(\"Occurrences:\", data[0,10])\n",
    "print(\"Class:\", class_names[labels[0]])\n",
    "print(\"Word:\", vocabulary[10])"
   ]
  },
  {
   "cell_type": "markdown",
   "metadata": {},
   "source": [
    "you can see that the 11th word appears twice in the first document, the first document belongs to the class \"earn\", and the 11th word is \"shareholder\"."
   ]
  },
  {
   "cell_type": "markdown",
   "metadata": {},
   "source": [
    "The following function randomly selects a subset of the data."
   ]
  },
  {
   "cell_type": "code",
   "execution_count": 20,
   "metadata": {},
   "outputs": [],
   "source": [
    "def sample_indices(labels, *num_per_class):\n",
    "    \"\"\"\n",
    "    Returns randomly selected indices. It will return the specified number of indices for each class.\n",
    "    \"\"\"\n",
    "    indices = []\n",
    "    for cls, num in enumerate(num_per_class):\n",
    "        cls_indices = np.where(labels == cls)[0]\n",
    "        indices.extend(np.random.choice(cls_indices, size=num, replace=False))\n",
    "    return np.array(indices)"
   ]
  },
  {
   "cell_type": "markdown",
   "metadata": {},
   "source": [
    "For instance, to get one sample from the first class, two from the second, three from the third, and four from the fourth, you can run:"
   ]
  },
  {
   "cell_type": "code",
   "execution_count": 38,
   "metadata": {
    "scrolled": true
   },
   "outputs": [],
   "source": [
    "indices = sample_indices(labels, 1, 2, 3, 4)\n",
    "print(\"Returned indices:\", indices)\n",
    "print(\"Samples:\", data[indices])\n",
    "print(\"Corresponding classes:\", labels[indices])\n",
    "rows, columns, values = scipy.sparse.find(data[108,:])\n",
    "print(\"Words:\", vocabulary[columns])\n",
    "# print(vocabulary[12])\n",
    "# print(vocabulary[14])"
   ]
  },
  {
   "cell_type": "raw",
   "metadata": {},
   "source": []
  },
  {
   "cell_type": "markdown",
   "metadata": {},
   "source": [
    "## 3. k-NN Implementation (4 Marks, Normal)\n",
    "\n",
    "Now, you will need to implement a k-NN classifier by filling the code below.\n",
    "This function should support two types of distance measures: Euclidean distance and cosine distance (defined as 1 - cosine similarity). It should take a set of training samples, a user-specified neighbour number, a distance option, and features of a set of testing samples as the input.\n",
    "It should return the predicted classes for the input set of testing samples.\n",
    "\n",
    "In order to get 4 marks, you are asked to implement the k-NN classifier from scrach without relying on any machine learning library, particularly the distance calculation. But you are allowed to research NumPy functions relating to sorting. If you decide to use existing distance implementation from libraries, e.g., `sklearn.metrics.pairwise_distances` imported as `cdist`, you can get at most 3 marks.\n",
    "\n",
    "**Your implementation must NOT make use of Python loops over individual samples or features**.\n",
    "You should use functions that operate on whole matrices, as this will be much faster than looping in Python.\n",
    "Each experiment below is expected to take no more than 2 minutes to run."
   ]
  },
  {
   "cell_type": "code",
   "execution_count": 19,
   "metadata": {},
   "outputs": [],
   "source": [
    "import scipy.stats\n",
    "from sklearn.metrics import pairwise_distances as cdist\n",
    "\n",
    "def knn_classify(test_samples, training_data, training_labels, metric=\"euclidean\", k=1):\n",
    "    \"\"\"\n",
    "    Performs k-nearest neighbour classification on the provided samples,\n",
    "    given training data and the corresponding labels.\n",
    "    \n",
    "    test_samples: An m x d matrix of m samples to classify, each with d features.\n",
    "    training_data: An n x d matrix consisting of n training samples, each with d features.\n",
    "    training_labels: A vector of size n, where training_labels[i] is the label of training_data[i].\n",
    "    metric: The metric to use for calculating distances between samples.\n",
    "    k: The number of nearest neighbours to use for classification.\n",
    "    \n",
    "    Returns: A vector of size m, where out[i] is the predicted class of test_samples[i].\n",
    "    \"\"\"\n",
    "    # Calculate an m x n distance matrix.\n",
    "    if metric == \"euclidean\":\n",
    "        pairwise_distance = cdist(test_samples, training_data, metric=metric)\n",
    "    elif metric == \"cosine\":\n",
    "        pairwise_distance = cdist(test_samples, training_data, metric=metric)\n",
    "    else:\n",
    "        raise ValueError(\"Invalid metric type specified.\")\n",
    "    \n",
    "    # Find the k nearest neighbours of each samples as an m x k matrix of indices.\n",
    "    nearest_neighbours = np.argsort(pairwise_distance, axis=1)[:, :k]\n",
    "    #print(nearest_neighbours)\n",
    "    \n",
    "    # Look up the classes corresponding to each index.\n",
    "    nearest_labels = training_labels[nearest_neighbours]\n",
    "    \n",
    "    # Return the most frequent class on each row.\n",
    "    # You may find the squeeze method useful here.\n",
    "    return np.squeeze(scipy.stats.mode(nearest_labels, axis=1, keepdims=True)[0])\n"
   ]
  },
  {
   "cell_type": "markdown",
   "metadata": {},
   "source": [
    "## 4. Experiments (13 Marks in Total)\n",
    "\n",
    "Use your k-NN function to perform the following experiments.\n",
    "\n",
    "### Experiment 1 (3 Marks, Easy)\n",
    "\n",
    "Randomly select 80 articles per class for training, and use the remaining articles for testing.\n",
    "Fix a neighbour number setting as you see fit. Perform k-NN classification using the Euclidean distance and test it.\n",
    "\n",
    "Repeat this process 20 times (trials).\n",
    "Calculate the mean and standard deviation of the testing accuracies. Print out the mean and standard deviation."
   ]
  },
  {
   "cell_type": "code",
   "execution_count": 75,
   "metadata": {},
   "outputs": [
    {
     "name": "stdout",
     "output_type": "stream",
     "text": [
      "Mean accuracy: 0.8669\n",
      "Standard deviation of accuracy: 0.0284\n"
     ]
    }
   ],
   "source": [
    "trials = 20\n",
    "k = 5\n",
    "accuracies = np.zeros(trials)\n",
    "\n",
    "for i in range(trials):\n",
    "    # Sample training and testing indices\n",
    "    training_indices = sample_indices(labels, 80, 80, 80, 80)\n",
    "    testing_indices = np.setdiff1d(range(data.shape[0]), training_indices)\n",
    "    \n",
    "    # Split the data into training and testing sets\n",
    "    training_data, training_labels = data[training_indices], labels[training_indices]\n",
    "    testing_data, testing_labels = data[testing_indices], labels[testing_indices]\n",
    "    \n",
    "    # Perform k-NN classification \n",
    "    knn_prediction = knn_classify(testing_data, training_data, training_labels, metric=\"euclidean\", k=k)\n",
    "    \n",
    "    # Calculate the testing accuracy\n",
    "    accuracy = np.mean(knn_prediction == testing_labels)\n",
    "    accuracies[i] = accuracy\n",
    "\n",
    "mean_accuracy = np.mean(accuracies)\n",
    "std_dev_accuracy = np.std(accuracies)\n",
    "\n",
    "print(f\"Mean accuracy: {mean_accuracy:.4f}\")\n",
    "print(f\"Standard deviation of accuracy: {std_dev_accuracy:.4f}\")\n",
    "\n",
    "#print(predictions)\n",
    "#print(testing_labels)\n",
    "\n",
    "\n",
    "\n",
    "\n",
    "\n"
   ]
  },
  {
   "cell_type": "markdown",
   "metadata": {},
   "source": [
    "Use the same neighbour number, but use the cosine distance instead of the Euclidean distance.\n",
    "Repeat the same experiment.\n",
    "\n",
    "Print out the mean and standard deviation."
   ]
  },
  {
   "cell_type": "code",
   "execution_count": 77,
   "metadata": {},
   "outputs": [
    {
     "name": "stdout",
     "output_type": "stream",
     "text": [
      "Mean accuracy: 0.9593\n",
      "Standard deviation of accuracy: 0.0065\n"
     ]
    }
   ],
   "source": [
    "# Your code goes here\n",
    "for i in range(trials):\n",
    "    training_indices = sample_indices(labels, 80, 80, 80, 80)\n",
    "    testing_indices = np.setdiff1d(range(data.shape[0]), training_indices)\n",
    "    \n",
    "    training_data, training_labels = data[training_indices], labels[training_indices]\n",
    "    testing_data, testing_labels = data[testing_indices], labels[testing_indices]\n",
    "    \n",
    "    knn_predictions = knn_classify(testing_data, training_data, training_labels, metric=\"cosine\", k=k)\n",
    "    \n",
    "    # Calculating the testing accuracy\n",
    "    accuracy = np.mean(knn_predictions == testing_labels)\n",
    "    accuracies[i] = accuracy\n",
    "\n",
    "std_dev_accuracy = np.std(accuracies)    \n",
    "mean_accuracy = np.mean(accuracies)\n",
    "\n",
    "\n",
    "print(f\"Mean accuracy: {mean_accuracy:.4f}\")\n",
    "print(f\"Standard deviation of accuracy: {std_dev_accuracy:.4f}\")"
   ]
  },
  {
   "cell_type": "markdown",
   "metadata": {},
   "source": [
    "Explain in your report which distance measure gives better performance and analyse the reason. "
   ]
  },
  {
   "cell_type": "markdown",
   "metadata": {},
   "source": [
    "### Experiment 2 (5 Marks, Easy)\n",
    "\n",
    "Using the distance measure that you found performs better in Experiment 1.\n",
    "\n",
    "Randomly select 80 articles per class for training, and use the remaining articles for testing. Perform k-NN classification with the neighbour number $k$ varying from 1 to 50.\n",
    "\n",
    "For each values of $k$, repeat the training process by 20 trials and record the average training error rates and standard deviation.\n",
    "\n",
    "Do the same for testing errors."
   ]
  },
  {
   "cell_type": "code",
   "execution_count": 23,
   "metadata": {},
   "outputs": [
    {
     "name": "stdout",
     "output_type": "stream",
     "text": [
      "k = 1\n",
      "Training error rate: 0.0000 ± 0.0000\n",
      "Testing error rate: 0.0353 ± 0.0085\n",
      "k = 2\n",
      "Training error rate: 0.0142 ± 0.0056\n",
      "Testing error rate: 0.0440 ± 0.0101\n",
      "k = 3\n",
      "Training error rate: 0.0180 ± 0.0070\n",
      "Testing error rate: 0.0380 ± 0.0089\n",
      "k = 4\n",
      "Training error rate: 0.0245 ± 0.0089\n",
      "Testing error rate: 0.0400 ± 0.0078\n",
      "k = 5\n",
      "Training error rate: 0.0247 ± 0.0050\n",
      "Testing error rate: 0.0385 ± 0.0081\n",
      "k = 6\n",
      "Training error rate: 0.0270 ± 0.0072\n",
      "Testing error rate: 0.0399 ± 0.0054\n",
      "k = 7\n",
      "Training error rate: 0.0292 ± 0.0076\n",
      "Testing error rate: 0.0429 ± 0.0097\n",
      "k = 8\n",
      "Training error rate: 0.0303 ± 0.0092\n",
      "Testing error rate: 0.0414 ± 0.0069\n",
      "k = 9\n",
      "Training error rate: 0.0302 ± 0.0063\n",
      "Testing error rate: 0.0398 ± 0.0081\n",
      "k = 10\n",
      "Training error rate: 0.0298 ± 0.0093\n",
      "Testing error rate: 0.0428 ± 0.0088\n",
      "k = 11\n",
      "Training error rate: 0.0348 ± 0.0084\n",
      "Testing error rate: 0.0422 ± 0.0070\n",
      "k = 12\n",
      "Training error rate: 0.0364 ± 0.0081\n",
      "Testing error rate: 0.0424 ± 0.0090\n",
      "k = 13\n",
      "Training error rate: 0.0389 ± 0.0099\n",
      "Testing error rate: 0.0425 ± 0.0071\n",
      "k = 14\n",
      "Training error rate: 0.0378 ± 0.0073\n",
      "Testing error rate: 0.0446 ± 0.0063\n",
      "k = 15\n",
      "Training error rate: 0.0392 ± 0.0100\n",
      "Testing error rate: 0.0479 ± 0.0100\n",
      "k = 16\n",
      "Training error rate: 0.0361 ± 0.0058\n",
      "Testing error rate: 0.0469 ± 0.0065\n",
      "k = 17\n",
      "Training error rate: 0.0414 ± 0.0094\n",
      "Testing error rate: 0.0445 ± 0.0091\n",
      "k = 18\n",
      "Training error rate: 0.0403 ± 0.0084\n",
      "Testing error rate: 0.0462 ± 0.0082\n",
      "k = 19\n",
      "Training error rate: 0.0384 ± 0.0078\n",
      "Testing error rate: 0.0479 ± 0.0068\n",
      "k = 20\n",
      "Training error rate: 0.0422 ± 0.0066\n",
      "Testing error rate: 0.0476 ± 0.0071\n",
      "k = 21\n",
      "Training error rate: 0.0417 ± 0.0084\n",
      "Testing error rate: 0.0466 ± 0.0066\n",
      "k = 22\n",
      "Training error rate: 0.0402 ± 0.0055\n",
      "Testing error rate: 0.0492 ± 0.0089\n",
      "k = 23\n",
      "Training error rate: 0.0392 ± 0.0093\n",
      "Testing error rate: 0.0505 ± 0.0117\n",
      "k = 24\n",
      "Training error rate: 0.0439 ± 0.0095\n",
      "Testing error rate: 0.0472 ± 0.0103\n",
      "k = 25\n",
      "Training error rate: 0.0397 ± 0.0113\n",
      "Testing error rate: 0.0508 ± 0.0106\n",
      "k = 26\n",
      "Training error rate: 0.0434 ± 0.0073\n",
      "Testing error rate: 0.0454 ± 0.0094\n",
      "k = 27\n",
      "Training error rate: 0.0503 ± 0.0073\n",
      "Testing error rate: 0.0484 ± 0.0079\n",
      "k = 28\n",
      "Training error rate: 0.0483 ± 0.0114\n",
      "Testing error rate: 0.0528 ± 0.0118\n",
      "k = 29\n",
      "Training error rate: 0.0441 ± 0.0070\n",
      "Testing error rate: 0.0526 ± 0.0096\n",
      "k = 30\n",
      "Training error rate: 0.0475 ± 0.0105\n",
      "Testing error rate: 0.0545 ± 0.0099\n",
      "k = 31\n",
      "Training error rate: 0.0459 ± 0.0109\n",
      "Testing error rate: 0.0557 ± 0.0106\n",
      "k = 32\n",
      "Training error rate: 0.0506 ± 0.0086\n",
      "Testing error rate: 0.0552 ± 0.0106\n",
      "k = 33\n",
      "Training error rate: 0.0505 ± 0.0084\n",
      "Testing error rate: 0.0584 ± 0.0073\n",
      "k = 34\n",
      "Training error rate: 0.0528 ± 0.0091\n",
      "Testing error rate: 0.0618 ± 0.0089\n",
      "k = 35\n",
      "Training error rate: 0.0523 ± 0.0116\n",
      "Testing error rate: 0.0594 ± 0.0094\n",
      "k = 36\n",
      "Training error rate: 0.0531 ± 0.0086\n",
      "Testing error rate: 0.0592 ± 0.0086\n",
      "k = 37\n",
      "Training error rate: 0.0595 ± 0.0096\n",
      "Testing error rate: 0.0591 ± 0.0095\n",
      "k = 38\n",
      "Training error rate: 0.0544 ± 0.0121\n",
      "Testing error rate: 0.0623 ± 0.0099\n",
      "k = 39\n",
      "Training error rate: 0.0539 ± 0.0106\n",
      "Testing error rate: 0.0634 ± 0.0082\n",
      "k = 40\n",
      "Training error rate: 0.0602 ± 0.0108\n",
      "Testing error rate: 0.0591 ± 0.0078\n",
      "k = 41\n",
      "Training error rate: 0.0588 ± 0.0111\n",
      "Testing error rate: 0.0625 ± 0.0086\n",
      "k = 42\n",
      "Training error rate: 0.0594 ± 0.0078\n",
      "Testing error rate: 0.0622 ± 0.0072\n",
      "k = 43\n",
      "Training error rate: 0.0550 ± 0.0087\n",
      "Testing error rate: 0.0681 ± 0.0092\n",
      "k = 44\n",
      "Training error rate: 0.0605 ± 0.0083\n",
      "Testing error rate: 0.0661 ± 0.0072\n",
      "k = 45\n",
      "Training error rate: 0.0634 ± 0.0098\n",
      "Testing error rate: 0.0666 ± 0.0061\n",
      "k = 46\n",
      "Training error rate: 0.0603 ± 0.0094\n",
      "Testing error rate: 0.0649 ± 0.0080\n",
      "k = 47\n",
      "Training error rate: 0.0575 ± 0.0095\n",
      "Testing error rate: 0.0685 ± 0.0101\n",
      "k = 48\n",
      "Training error rate: 0.0664 ± 0.0115\n",
      "Testing error rate: 0.0609 ± 0.0069\n",
      "k = 49\n",
      "Training error rate: 0.0642 ± 0.0070\n",
      "Testing error rate: 0.0661 ± 0.0059\n",
      "k = 50\n",
      "Training error rate: 0.0667 ± 0.0107\n",
      "Testing error rate: 0.0648 ± 0.0090\n"
     ]
    }
   ],
   "source": [
    "k_values = np.arange(1, 51)\n",
    "trials = 20\n",
    "train_errors = np.zeros((len(k_values), trials))\n",
    "test_errors = np.zeros((len(k_values), trials))\n",
    "\n",
    "for j, k in enumerate(k_values):\n",
    "    for i in range(trials):\n",
    "        # Sample training and testing indices\n",
    "        training_indices = sample_indices(labels, 80, 80, 80, 80)\n",
    "        testing_indices = np.setdiff1d(range(data.shape[0]), training_indices)\n",
    "\n",
    "        # Split the data into training and testing sets\n",
    "        training_data, training_labels = data[training_indices], labels[training_indices]\n",
    "        testing_data, testing_labels = data[testing_indices], labels[testing_indices]\n",
    "\n",
    "        # Perform k-NN classification on training data\n",
    "        predictions_train = knn_classify(training_data, training_data, training_labels, metric=\"cosine\", k=k)\n",
    "\n",
    "        # Calculate the training error\n",
    "        train_error = 1 - np.mean(predictions_train == training_labels)\n",
    "        train_errors[j, i] = train_error\n",
    "\n",
    "        # Getting predictions for test data\n",
    "        predictions_test = knn_classify(testing_data, training_data, training_labels, metric=\"cosine\", k=k)\n",
    "\n",
    "        # Calculate the testing error\n",
    "        test_error = 1 - np.mean(predictions_test == testing_labels)\n",
    "        test_errors[j, i] = test_error\n",
    "\n",
    "    # Mean and standard deviation of training and testing errors\n",
    "    train_error_mean = np.mean(train_errors[j]);train_error_std = np.std(train_errors[j])\n",
    "    test_error_mean = np.mean(test_errors[j]);test_error_std = np.std(test_errors[j])\n",
    "\n",
    "    # Print the results for the current k value\n",
    "#     print(f\"k = {k}\")\n",
    "#     print(f\"Training error rate: {train_error_mean:.4f} ± {train_error_std:.4f}\")\n",
    "#     print(f\"Testing error rate: {test_error_mean:.4f} ± {test_error_std:.4f}\")\n",
    "\n"
   ]
  },
  {
   "cell_type": "markdown",
   "metadata": {},
   "source": [
    "Produce an error bar plot showing the training error rate for each $k$ here:"
   ]
  },
  {
   "cell_type": "code",
   "execution_count": 64,
   "metadata": {},
   "outputs": [
    {
     "data": {
      "image/png": "[encoded data removed]",
      "text/plain": [
       "<Figure size 640x480 with 1 Axes>"
      ]
     },
     "metadata": {},
     "output_type": "display_data"
    }
   ],
   "source": [
    "# Your code goes here\n",
    "import matplotlib.pyplot as plt\n",
    "\n",
    "# Calculate the mean and standard deviation of training errors for each k\n",
    "train_error_means = np.mean(train_errors, axis=1)\n",
    "train_error_stds = np.std(train_errors, axis=1)\n",
    "\n",
    "# Plot the mean training error rate for each k with error bars indicating the standard deviation\n",
    "plt.errorbar(k_values, train_error_means, yerr=train_error_stds, fmt='o-', label='Training Error Rate')\n",
    "\n",
    "# Add labels to the plot\n",
    "plt.title('Training Error Rates for k-NN with Varying k')\n",
    "plt.xlabel('Number of Neighbors (k)')\n",
    "plt.ylabel('Error Rate')\n",
    "plt.legend(loc='best')\n",
    "\n",
    "# Show the plot\n",
    "plt.show()\n"
   ]
  },
  {
   "cell_type": "markdown",
   "metadata": {},
   "source": [
    "Produce your testing error bar plot here:"
   ]
  },
  {
   "cell_type": "code",
   "execution_count": 63,
   "metadata": {},
   "outputs": [
    {
     "data": {
      "image/png": "[encoded data removed]",
      "text/plain": [
       "<Figure size 640x480 with 1 Axes>"
      ]
     },
     "metadata": {},
     "output_type": "display_data"
    }
   ],
   "source": [
    "# Your code goes here\n",
    "# Calculate the mean and standard deviation of training errors for each k\n",
    "test_error_means = np.mean(test_errors, axis=1)\n",
    "test_error_stds = np.std(test_errors, axis=1)\n",
    "\n",
    "# Plot the mean training error rate for each k with error bars indicating the standard deviation\n",
    "plt.errorbar(k_values, test_error_means, yerr=test_error_stds, fmt='o-', label='Testing Error Rate')\n",
    "\n",
    "# Add labels to the plot\n",
    "plt.title('Testing Error Rates for k-NN with Varying k')\n",
    "plt.ylabel('Error Rate')\n",
    "plt.xlabel('Number of Neighbors (k)')\n",
    "plt.legend(loc='best')\n",
    "\n",
    "# Show the plot\n",
    "plt.show()"
   ]
  },
  {
   "cell_type": "markdown",
   "metadata": {},
   "source": [
    "**Remember that all graphs should have axis labels and a title.**\n",
    "\n",
    "Discuss in your report the difference between the training and testing accuracies, and why this is the case. \n",
    "\n",
    "Analyse in your report the effect of $k$ based on this experiment. What do you think is a reasonable value for $k$? Comment specifically on the *bias* and *variance* of your model at small and large values of $k$."
   ]
  },
  {
   "cell_type": "markdown",
   "metadata": {},
   "source": [
    "### Experiment 3 (5 Marks, Hard)\n",
    "\n",
    "In this experiment we will create confusion matrices for a more detailed view on our model's performance. Then, we will observe the behaviour of our knn classifier on novel classes.\n",
    "\n",
    "First, randomly select 100 articles per class for training, and use the remaining articles for testing. Set the neighbour number to $k=3$. Perform 3-NN classification using the Cosine distance, as in previous experiments.\n",
    "\n",
    "#### Confusion Matrix Implementation  \n",
    "\n",
    "Implement a multi-class confusion matrix yourself, from scratch. Let the row index correspond to the known label, and column index to predicted label. If you decide to use existing confusion matrix implementation from libraries, e.g., `sklearn.metrics.confusion_matrix`, you can get at most 4 marks. (However, you may use an existing implementation to check the output of your own function.)\n",
    "\n",
    "Print out the confusion matrix and overall accuracy of your classifier for the testing data."
   ]
  },
  {
   "cell_type": "code",
   "execution_count": 9,
   "metadata": {},
   "outputs": [
    {
     "name": "stdout",
     "output_type": "stream",
     "text": [
      "Confusion Matrix:\n",
      "[[96.  0.  1.  3.]\n",
      " [ 3. 93.  2.  2.]\n",
      " [ 0.  4. 95.  1.]\n",
      " [ 0.  0.  3. 97.]]\n",
      "Overall Accuracy: 0.9525\n"
     ]
    }
   ],
   "source": [
    "# Split the data into training and testing sets\n",
    "training_indices = sample_indices(labels, 100, 100, 100, 100)\n",
    "testing_indices = np.setdiff1d(range(data.shape[0]), training_indices)\n",
    "\n",
    "\n",
    "training_data, training_labels = data[training_indices], labels[training_indices]\n",
    "testing_data, testing_labels = data[testing_indices], labels[testing_indices]\n",
    "\n",
    "k=3\n",
    "\n",
    "predictions_3 = knn_classify(testing_data, training_data, training_labels, metric=\"cosine\", k=k)\n",
    "\n",
    "# Calculating confusion matrix\n",
    "conf_matrix = np.zeros((4,4))  \n",
    "for i in range(len(testing_labels)):\n",
    "    predicted_label = predictions_3[i]\n",
    "    correct_label = testing_labels[i]\n",
    "    conf_matrix[correct_label][predicted_label] += 1\n",
    "\n",
    "# Printing out confusion matrix and overall accuracy\n",
    "print(\"Confusion Matrix:\")\n",
    "print(conf_matrix)\n",
    "numerator = np.trace(conf_matrix)\n",
    "denominator = np.sum(conf_matrix)\n",
    "overall_accuracy = numerator / denominator\n",
    "print(\"Overall Accuracy:\", overall_accuracy)"
   ]
  },
  {
   "cell_type": "markdown",
   "metadata": {},
   "source": [
    "#### On Novel Classes\n",
    "\n",
    "5 new articles have been provided in string format below. The code to create a sparse representation of these articles has also been provided. Take a moment to skim through the articles.\n",
    "\n",
    "Run the code below, saving the sparse matrix representation of these 5 articles into `new_data`."
   ]
  },
  {
   "cell_type": "code",
   "execution_count": 4,
   "metadata": {},
   "outputs": [],
   "source": [
    "sp0 = \"\"\"World number four Jessica Pegula said she thought about ending her tennis career prematurely last year due to her mother Kim's health issues.\n",
    "Kim, the co-owner and president of the NFL's Buffalo Bills and NHL's Buffalo Sabres, suffered a cardiac arrest in June and needed CPR from her other daughter Kelly before paramedics arrived and restored her heartbeat.\n",
    "Pegula received the news after returning home to Florida from the French Open, where she lost to eventual champion Iga Swiatek but rose to number eight in the world.\n",
    "\"Suddenly I went from, 'Let's celebrate top 10 in the world' to, 'Do I need to start thinking about my career after tennis a lot sooner than I thought?'\" Pegula wrote in an essay in The Players' Tribune.\n",
    "\"I'm 28 and I take pride in being able to handle every situation thrown at me, but this was a lot.\"\n",
    "Pegula said she wanted to share her mother's story after Bills safety Damar Hamlin suffered a cardiac arrest during an NFL game last month.\n",
    "Pegula went on to play Wimbledon and the U.S. Open last year to reach a career-high ranking of number three.\n",
    "\"I still wanted to play Wimbledon if I knew my mom was O.K.,\" Pegula wrote. \"My dad didn't want me to play, but I knew she would be upset if I skipped because of her.\n",
    "\"I had to deal with a lot of speculation and questions surrounding her health, even shutting down rumours that she had died,\" added Pegula, who lost to Victoria Azarenka in the quarter-finals of this year's Australian Open.\n",
    "\"It wasn't necessarily the most fun Wimbledon experience I remember. I had a few good wins, and I was proud I was able to go out and compete considering the situation.\" \"\"\"\n",
    "\n",
    "sp1 = \"\"\"Juventus outclassed Salernitana 3-0 on Tuesday in Serie A, with two goals and one assist from striker Dusan Vlahovic helping the visitors move up to 10th place in the standings. The game marked a return to form for Serbian Vlahovic, who has struggled with injuries this season, but made his first league start since October. \n",
    "\"You can see physically, he just moves better, looks sharper, he also played well on a technical level today,\" Juventus manager Massimiliano Allegri told DAZN.\n",
    "Juventus got a penalty after 26 minutes when Hans Nicolussi fouled Manuel Locatelli inside the box with Vlahovic converting the penalty.\n",
    "Vlahovic almost netted a second in the 37th minute, but his shot from an acute angle at the edge of the box went just wide of the post.\n",
    "Filip Kostic doubled the lead on the stroke of halftime when he tapped the ball in from close range after Vlahovic's initial shot bounced into his path, providing an unintended assist.\n",
    "Juventus could have scored a third in the last seconds before the break when Locatelli made a run unmarked into the box, but Salernitana keeper Guillermo Ochoa reacted early and parried his attempted lob.\n",
    "Vlahovic got his second goal 80 seconds into the second half when he ran through in the box and smashed the ball low into the right corner.\n",
    "Salernitana almost pulled one back in the 51st minute, with Junior Sambia sending a cross that went through almost everyone in the box, but forward Boulaye Dia was unable to stretch himself in time to guide the ball into the open net.\n",
    "\"The team gave a strong response, we had a good 60 minutes, but got a bit complacent after going 3-0 up and allowed too many shots on goal. We were static in our positions, didn't move around enough and the players know we must absolutely do better,\" Allegri said.\n",
    "\"The first 10 minutes we tended to pass it too much down the right, so we need to improve our passing, be smoother and keep it simple.\"\n",
    "Juve could have added to their tally but were denied by the woodwork with Angel Di Maria hitting the crossbar after 53 minutes and Moise Kean striking the post late on.\n",
    "The result moved Juventus on to 26 points from 21 matches, while Salernitana are 16th with 21 points.\" \"\"\"\n",
    "\n",
    "sp2 = \"\"\"Manchester United manager Erik ten Hag said he has a long-term plan to build a culture and to develop players at the club.\n",
    "United appointed Ten Hag in April 2022 to succeed interim boss Ralf Rangnick.\n",
    "The team sit third in the Premier League, eight points behind leaders Arsenal, and have the chance to win their first trophy since 2017 when they face Newcastle United in the League Cup final on Feb. 26.\n",
    "\"I always think about the long term, in every club where I was, I have been thinking about long-term work to build a culture, to build a way of playing, to develop the players and the team, obviously,\" Ten Hag told reporters.\n",
    "\"I think in the long term obviously in contracts and in (transfer) windows because I think that is the (right) way.\n",
    "\"I am not here for one year, I am (here for) longer, I see it is a long-term project to build here and how long it is you can't see, I can't tell,\" he added.\"\"\"\n",
    "\n",
    "sp3 = \"\"\"A near-historic Philadelphia Eagles pass rush will face the ultimate test on Sunday in Kansas City Chiefs quarterback Patrick Mahomes, an MVP favourite with no interest in ceding the Super Bowl spotlight.\n",
    "The Eagles established themselves as a terrifying defensive force in the regular season, punishing opponents with an astonishing 70 sacks, two shy of the NFL record, while allowing the second-fewest yards per game.\n",
    "But Mahomes is unlike any quarterback they faced in 2022.\n",
    "\"Mahomes is the guy that extends the plays and drops the dimes,\" defensive end Brandon Graham, who helped the Eagles to the Lombardi Trophy five years ago, told reporters on Tuesday.\n",
    "\"You've got to make sure you can hit him, get him on the ground, create turnovers, make him make bad throws.\"\n",
    "At just 27-years-old Mahomes has already vaulted himself into the history books, joining future Hall of Famer Drew Brees this year as one of only two quarterbacks to throw for more than 5,000 yards and 40 or more touchdowns in multiple seasons.\n",
    "Eagles linebacker Haason Reddick produced a career-best 16 sacks this season but had few answers when asked how the Eagles could contain Mahomes.\n",
    "\"When it comes to Patrick Mahomes, man, he's a tremendous talent,\" he told reporters this week.\n",
    "\"I don't know if you can contain him - I just don't know, he's that good. I won't lie, he is.\"\n",
    "Not even injury appeared to hold back Mahomes in the postseason, when he played in the AFC title match against the Cincinnati Bengals just eight days after suffering a high ankle sprain in the Chiefs' divisional round win.\n",
    "With the game tied and seconds left on the clock in the fourth quarter, he produced a heroic sprint that ultimately helped put kicker Harrison Butker within range.\n",
    "\"I know he was hurting - I know that. He's so mentally tough,\" head coach Andy Reid told reporters at the Super Bowl Opening Night on Monday. \"That run that he made at the end, that was the fastest he's run all year.\"\n",
    "Cornerback James Bradberry said that it would take everything in the Eagles arsenal to stop Mahomes from collecting his second Super Bowl ring.\n",
    "\"You just have to be aware of how dominant he can be. You want to make sure you can contain him, eliminate what he's able to do,\" he told reporters on Tuesday.\n",
    "\"You just want to make sure you put guys in his face. That's what our defensive line has been doing all year.\" \"\"\"\n",
    "\n",
    "sp4 = \"\"\"Los Angeles Lakers forward LeBron James surpassed Kareem Abdul-Jabbar to become the NBA's all-time leading scorer on Tuesday, setting the new mark with a fadeaway jumpshot late in the third quarter of a home game against the Oklahoma City Thunder.\n",
    "'King James', who entered the game needing 36 points to break Abdul-Jabbar’s record of 38,387, sent the sold-out crowd into a frenzy when the ball splashed through the net, raising his arms in triumph as his team mates embraced him.\n",
    "Lakers great Abdul-Jabbar, who took the title from Wilt Chamberlain with his signature skyhook on April 5, 1984, sat courtside at Tuesday's game and stood to applaud James after the record was broken.\n",
    "Play was stopped to recognize the achievement and to let James address the crowd.\n",
    "\"I just want to say thank you to the Laker faithful, you guys are one of a kind,\" James said.\n",
    "\"To be able to be in the presence of such a legend as Kareem is unbelievable, it's very humbling. Please give a standing ovation to 'The Captain.'\"\n",
    "Tributes from his family, U.S. President Joe Biden and students from his \"I Promise School\" were played inside the arena, while NBA Commissioner Adam Silver told Reuters it was an \"historic moment\".\n",
    "\"These types of significant milestones capture the attention of not only basketball fans but broader society,\" Silver said.\n",
    "\"LeBron's pursuit of the scoring record is no exception and billions of people will become aware of this milestone.\"\n",
    "All season long it has been a question of when, not if, James would topple the record. Some thought it may come during Thursday's home game against Milwaukee but James had other ideas.\n",
    "Arriving at the arena in a jet black suit, black shirt and dark sunglasses, James looked like he was going to a funeral.\n",
    "Hours later, he buried Abdul-Jabbar's record.\n",
    "A deafening roar greeted him during the pre-game introductions and another came when he buried a three-pointer five minutes into the opening quarter for his first points of the night.\n",
    "He cut the number he needed to single digits on a straightway three in the second half that sent fans leaping from their seats before the 21-foot, history-making bucket arrived with 10 seconds remaining in the third quarter.\n",
    "\"It's so surreal, because it's something I never made a goal of mine or something I set out to do,\" James said after the game. \"It just happened.\"\n",
    "Drafted into the league as a teenager, the Akron, Ohio native has more than delivered on the massive expectations put on his broad shoulders at a young age.\n",
    "A versatile forward, he helping usher in the era of position-less basketball, winning four titles with three different teams, four MVP awards and four Finals MVP awards.\n",
    "James sits top of the regular season points list followed by Abdul-Jabbar with Utah Jazz great Karl Malone (36,928), late Lakers legend Kobe Bryant (33,643) and Chicago Bulls icon Michael Jordan (32,292) rounding out the top five.\n",
    "\"When I read about the history of the game I never thought that this record would ever be touched,\" James said.\n",
    "\"I just didn't think nobody would have that type of longevity to come out on the floor and play at that level for so long.\n",
    "\"So it's just a complete honor to be a part of this league, to be a part of some of the greats that have ever played this game and to be right at the apex with them.\"\n",
    "Last month, the 38-year-old was named to a record-tying 19th All Star game, a mark also held by Abdul-Jabbar.\n",
    "\"For sure I know I can play a couple more years,\" James said.\n",
    "\"The way I'm feeling, the way my body has been reacting to me throughout the course of this season, I know I can play a couple more years.\n",
    "\"It's all about my mind. My mind is still into it and I am still motivated to go out and try to compete for championships because I feel like that's what I can still do.\"\n",
    "Despite James' historic night, the Lakers fell 133-130 to the Thunder and are now 25-30 on the season.\"\"\""
   ]
  },
  {
   "cell_type": "code",
   "execution_count": 5,
   "metadata": {},
   "outputs": [],
   "source": [
    "# Make sure you have scikit-learn installed. \n",
    "from sklearn.feature_extraction.text import CountVectorizer\n",
    "\n",
    "articles = []\n",
    "for f in [sp0, sp1, sp2, sp3, sp4]:\n",
    "    text = f.replace('\\n', ' ')\n",
    "    articles.append(text)\n",
    "vrizer = CountVectorizer(vocabulary=vocabulary)\n",
    "new_data = vrizer.fit_transform(articles)"
   ]
  },
  {
   "cell_type": "markdown",
   "metadata": {},
   "source": [
    "(1) Run the classifier from step (1) to predict the classes of the articles in `new_data`. Print out the class predictions.\n",
    "\n",
    "What classes to you think these 5 articles should belong to, based on your own judgement of their content? Can your classifer make an appropriate class prediction for these 5 articles? Analyse the reason for your answers in your report."
   ]
  },
  {
   "cell_type": "code",
   "execution_count": 12,
   "metadata": {},
   "outputs": [
    {
     "name": "stdout",
     "output_type": "stream",
     "text": [
      "Class predictions for the new data:\n",
      "Article 1 predicted to be in class 0\n",
      "Article 2 predicted to be in class 1\n",
      "Article 3 predicted to be in class 2\n",
      "Article 4 predicted to be in class 2\n",
      "Article 5 predicted to be in class 0\n"
     ]
    }
   ],
   "source": [
    "# Your code goes here\n",
    "# Getting predictions for the new data\n",
    "new_data_predictions = knn_classify(new_data.toarray(), training_data.toarray(), training_labels, metric=\"cosine\", k=k)\n",
    "\n",
    "# Print out the class predictions\n",
    "print(\"Class predictions for new data:\")\n",
    "for i, prediction in enumerate(new_data_predictions):\n",
    "    print(f\"Article {i+1} predicted to be in class {prediction}\")\n"
   ]
  },
  {
   "cell_type": "markdown",
   "metadata": {},
   "source": [
    "(2) Introduce a new class, `sport`, to your dataset. The class should contain the 5 articles as above. Add this to your data using the command below. Your new data contains 805 articles, 800 from the original dataset and 5 from the `new_data`, belonging to 5 classes: 200 articles from each of the first 4 classes and 5 articles from the 5th class.\n",
    "\n",
    "Randomly split the new data into a training set containing **100 articles each from 'earn', 'crude', 'trade', and 'interest', and then only 3 articles from 'sport'** (you should be able to use the `sample_indices` function given at the start). Reserve the remaining articles for testing. Test the performance of the new 3-NN classifier.\n",
    "\n",
    "Print the confusion matrix and classification accuracy for the testing data."
   ]
  },
  {
   "cell_type": "code",
   "execution_count": 6,
   "metadata": {},
   "outputs": [
    {
     "name": "stdout",
     "output_type": "stream",
     "text": [
      "Confusion Matrix:\n",
      "[[100.   0.   0.   0.   0.]\n",
      " [  1.  97.   1.   1.   0.]\n",
      " [  0.   1.  97.   2.   0.]\n",
      " [  0.   1.   3.  96.   0.]\n",
      " [  0.   0.   0.   0.   2.]]\n",
      "Overall Accuracy: 0.9751243781094527\n"
     ]
    }
   ],
   "source": [
    "import numpy as np\n",
    "import scipy.sparse\n",
    "\n",
    "# Add new class \n",
    "data_augmented = scipy.sparse.vstack((data, new_data))\n",
    "new_labels = np.full(5, 4)\n",
    "labels_augmented = np.hstack((labels, new_labels))\n",
    "\n",
    "# Randomly split data into training and testing sets\n",
    "num_per_class = [100, 100, 100, 100, 3]\n",
    "training_indices = sample_indices(labels_augmented, *num_per_class)\n",
    "testing_indices = np.setdiff1d(range(data_augmented.shape[0]), training_indices)\n",
    "\n",
    "training_data, training_labels = data_augmented[training_indices], labels_augmented[training_indices]\n",
    "testing_data, testing_labels = data_augmented[testing_indices], labels_augmented[testing_indices]\n",
    "\n",
    "k = 3\n",
    "predictions_3 = knn_classify(testing_data, training_data, training_labels, metric=\"cosine\", k=k)\n",
    "\n",
    "# Calculate confusion matrix\n",
    "conf_matrix = np.zeros((5, 5))\n",
    "for i in range(len(testing_labels)):\n",
    "    predicted_label = predictions_3[i]\n",
    "    correct_label = testing_labels[i]\n",
    "    conf_matrix[correct_label][predicted_label] += 1\n",
    "\n",
    "# Print out confusion matrix and overall accuracy\n",
    "print(\"Confusion Matrix:\")\n",
    "print(conf_matrix)\n",
    "numerator = np.trace(conf_matrix)\n",
    "denominator = np.sum(conf_matrix)\n",
    "overall_accuracy = numerator / denominator \n",
    "print(\"Overall Accuracy:\", overall_accuracy)\n",
    "\n"
   ]
  },
  {
   "cell_type": "markdown",
   "metadata": {},
   "source": [
    "(3) Repeat the above process 6 times, repeating the random train-test split. For each of the 5 classes, print out its averaged testing accuracy. Comment on your classifier's performance in your report. What are the consequences of having no training data and limited training data for the 'sports' class? "
   ]
  },
  {
   "cell_type": "code",
   "execution_count": 16,
   "metadata": {},
   "outputs": [
    {
     "name": "stdout",
     "output_type": "stream",
     "text": [
      "Split 1:\n",
      "Confusion Matrix:\n",
      "[[98.  0.  0.  2.  0.]\n",
      " [ 2. 98.  0.  0.  0.]\n",
      " [ 0.  3. 95.  2.  0.]\n",
      " [ 0.  1.  6. 93.  0.]\n",
      " [ 1.  0.  0.  0.  1.]]\n",
      "Testing Accuracy: 0.9577114427860697\n",
      "Class 0 Accuracy: 0.98\n",
      "Class 1 Accuracy: 0.98\n",
      "Class 2 Accuracy: 0.95\n",
      "Class 3 Accuracy: 0.93\n",
      "Class 4 Accuracy: 0.5\n",
      "\n",
      "Split 2:\n",
      "Confusion Matrix:\n",
      "[[99.  0.  1.  0.  0.]\n",
      " [ 1. 97.  1.  1.  0.]\n",
      " [ 1.  1. 96.  2.  0.]\n",
      " [ 0.  1.  2. 97.  0.]\n",
      " [ 0.  1.  0.  0.  1.]]\n",
      "Testing Accuracy: 0.9701492537313433\n",
      "Class 0 Accuracy: 0.99\n",
      "Class 1 Accuracy: 0.97\n",
      "Class 2 Accuracy: 0.96\n",
      "Class 3 Accuracy: 0.97\n",
      "Class 4 Accuracy: 0.5\n",
      "\n",
      "Split 3:\n",
      "Confusion Matrix:\n",
      "[[97.  0.  3.  0.  0.]\n",
      " [ 0. 97.  1.  2.  0.]\n",
      " [ 1.  4. 94.  1.  0.]\n",
      " [ 0.  0.  6. 94.  0.]\n",
      " [ 0.  0.  0.  1.  1.]]\n",
      "Testing Accuracy: 0.9527363184079602\n",
      "Class 0 Accuracy: 0.97\n",
      "Class 1 Accuracy: 0.97\n",
      "Class 2 Accuracy: 0.94\n",
      "Class 3 Accuracy: 0.94\n",
      "Class 4 Accuracy: 0.5\n",
      "\n",
      "Split 4:\n",
      "Confusion Matrix:\n",
      "[[99.  0.  0.  1.  0.]\n",
      " [ 3. 95.  1.  1.  0.]\n",
      " [ 2.  1. 96.  1.  0.]\n",
      " [ 0.  0.  4. 96.  0.]\n",
      " [ 0.  0.  1.  0.  1.]]\n",
      "Testing Accuracy: 0.9626865671641791\n",
      "Class 0 Accuracy: 0.99\n",
      "Class 1 Accuracy: 0.95\n",
      "Class 2 Accuracy: 0.96\n",
      "Class 3 Accuracy: 0.96\n",
      "Class 4 Accuracy: 0.5\n",
      "\n",
      "Split 5:\n",
      "Confusion Matrix:\n",
      "[[98.  0.  0.  2.  0.]\n",
      " [ 4. 93.  1.  2.  0.]\n",
      " [ 2.  0. 95.  3.  0.]\n",
      " [ 0.  0.  4. 96.  0.]\n",
      " [ 0.  0.  1.  0.  1.]]\n",
      "Testing Accuracy: 0.9527363184079602\n",
      "Class 0 Accuracy: 0.98\n",
      "Class 1 Accuracy: 0.93\n",
      "Class 2 Accuracy: 0.95\n",
      "Class 3 Accuracy: 0.96\n",
      "Class 4 Accuracy: 0.5\n",
      "\n",
      "Split 6:\n",
      "Confusion Matrix:\n",
      "[[97.  0.  1.  2.  0.]\n",
      " [ 1. 99.  0.  0.  0.]\n",
      " [ 2.  1. 96.  1.  0.]\n",
      " [ 0.  1.  3. 96.  0.]\n",
      " [ 0.  0.  1.  0.  1.]]\n",
      "Testing Accuracy: 0.9676616915422885\n",
      "Class 0 Accuracy: 0.97\n",
      "Class 1 Accuracy: 0.99\n",
      "Class 2 Accuracy: 0.96\n",
      "Class 3 Accuracy: 0.96\n",
      "Class 4 Accuracy: 0.5\n",
      "\n",
      "Average Class 0 Accuracy: 0.98\n",
      "Average Class 1 Accuracy: 0.965\n",
      "Average Class 2 Accuracy: 0.9533333333333333\n",
      "Average Class 3 Accuracy: 0.9533333333333333\n",
      "Average Class 4 Accuracy: 0.5\n"
     ]
    }
   ],
   "source": [
    "num_iterations = 6\n",
    "num_per_class = [100, 100, 100, 100, 3]\n",
    "class_acc = np.zeros(5) \n",
    "class_accuracy_all = np.zeros((num_iterations, 5))\n",
    "\n",
    "# Repeat process for multiple iterations\n",
    "for iteration in range(num_iterations):\n",
    "    print(f\"Split {iteration+1}:\")\n",
    "\n",
    "    # Add new class to dataset\n",
    "    data_augmented = scipy.sparse.vstack((data, new_data))\n",
    "    new_labels = np.full(5, 4)\n",
    "    labels_augmented = np.hstack((labels, new_labels))\n",
    "\n",
    "    # Randomly split data into training and testing sets\n",
    "    training_indices = sample_indices(labels_augmented, *num_per_class)\n",
    "    testing_indices = np.setdiff1d(range(data_augmented.shape[0]), training_indices)\n",
    "\n",
    "    training_data, training_labels = data_augmented[training_indices], labels_augmented[training_indices]\n",
    "    testing_data, testing_labels = data_augmented[testing_indices], labels_augmented[testing_indices]\n",
    "\n",
    "    k = 3\n",
    "    predictions_3 = knn_classify(testing_data.toarray(), training_data.toarray(), training_labels, metric=\"cosine\", k=k)\n",
    "\n",
    "    # Calculate confusion matrix\n",
    "    conf_matrix = np.zeros((5, 5))\n",
    "    for i in range(len(testing_labels)):\n",
    "        predicted_label = predictions_3[i]\n",
    "        correct_label = testing_labels[i]\n",
    "        conf_matrix[correct_label][predicted_label] += 1\n",
    "\n",
    "    # Print out confusion matrix and testing accuracy\n",
    "    print(\"Confusion Matrix:\")\n",
    "    print(conf_matrix)\n",
    "    numerator = np.trace(conf_matrix)\n",
    "    denominator = np.sum(conf_matrix)\n",
    "    testing_accuracy = numerator / denominator\n",
    "    print(\"Testing Accuracy:\", testing_accuracy)\n",
    "\n",
    "    # Calculate and print out class-wise accuracy\n",
    "    class_accuracy = np.zeros(5)\n",
    "    for i in range(5):\n",
    "        class_accuracy[i] = conf_matrix[i][i] / np.sum(conf_matrix[i])\n",
    "        print(f\"Class {i} Accuracy:\", class_accuracy[i])\n",
    "\n",
    "    class_accuracy_all[iteration] = class_accuracy\n",
    "\n",
    "    print()\n",
    "    \n",
    "\n",
    "class_acc = np.mean(class_accuracy_all, axis=0)\n",
    "for j in range(5):\n",
    "    print(f\"Average Class {j} Accuracy:\", class_acc[j])\n"
   ]
  },
  {
   "cell_type": "markdown",
   "metadata": {},
   "source": [
    "(4) Self-learn the concepts of zero-shot learning and few-shot learning. In your report, link these concepts to the experiments you've just performed. Is your model performing zero- or few-shot learning? Explain your reasoning. "
   ]
  },
  {
   "cell_type": "markdown",
   "metadata": {},
   "source": [
    "## 5. Result Analysis (4 Marks in Total)\n",
    "\n",
    "### Analysis 1 (2 Marks, Normal)\n",
    "Choose a training-testing trial in Experiment 2 for $k=1$. Observe the testing error of this 1-NN, and estimate the interval where its true error lies with 90% probability. Explain in your report how you compute it."
   ]
  },
  {
   "cell_type": "code",
   "execution_count": 62,
   "metadata": {},
   "outputs": [
    {
     "name": "stdout",
     "output_type": "stream",
     "text": [
      "k=1 testing error rate: 0.0353\n",
      "90% confidence interval: [0.0320, 0.0386]\n"
     ]
    }
   ],
   "source": [
    "# You may write your calculations in LateX or in code here\n",
    "import scipy.stats as stats\n",
    "\n",
    "k = 1\n",
    "trials = 20\n",
    "k_pos = k - 1\n",
    "\n",
    "test_error_mean = np.mean(test_errors[k_pos])\n",
    "test_error_sd = np.std(test_errors[k_pos])\n",
    "\n",
    "#Finding lower and upper bounds\n",
    "multiplier = test_error_sd / np.sqrt(trials)\n",
    "critical = stats.t.ppf(0.95, df=trials-1)\n",
    "upper_bound = test_error_mean + critical * multiplier\n",
    "lower_bound = test_error_mean - critical * multiplier\n",
    "\n",
    "print(f\"k=1 testing error rate: {test_error_mean:.4f}\")\n",
    "print(f\"90% confidence interval: [{lower_bound:.4f}, {upper_bound:.4f}]\")\n"
   ]
  },
  {
   "cell_type": "markdown",
   "metadata": {},
   "source": [
    "### Analysis 2 (2 Marks, Normal)\n",
    "The following function `Get_p_value()` is provided to obtain $p$ according to $z_p$. Use this function to perform Analysis 2."
   ]
  },
  {
   "cell_type": "code",
   "execution_count": 7,
   "metadata": {},
   "outputs": [],
   "source": [
    "# run this cell first\n",
    "\n",
    "def Get_p_value(zp):\n",
    "    return round(1 - scipy.stats.norm.sf(abs(zp))*2,2)"
   ]
  },
  {
   "cell_type": "code",
   "execution_count": 34,
   "metadata": {},
   "outputs": [
    {
     "name": "stdout",
     "output_type": "stream",
     "text": [
      "zp = 0.67, p =  0.5\n",
      "zp = 1, p =  0.68\n",
      "zp = 1.64, p =  0.9\n",
      "zp = 2.58, p =  0.99\n",
      "\n",
      "p =  0.33\n"
     ]
    }
   ],
   "source": [
    "# Use this cell to compare the output value of function Get_p_value with \n",
    "# the table provided in your lecture notes (e.g., Slide 12, Chapter3C.pdf)\n",
    "\n",
    "print('zp = 0.67, p = ', Get_p_value(0.67))\n",
    "print('zp = 1, p = ', Get_p_value(1))\n",
    "print('zp = 1.64, p = ', Get_p_value(1.64))\n",
    "print('zp = 2.58, p = ', Get_p_value(2.58))\n",
    "print()\n",
    "\n",
    "# you can alert the input zp value and re-run this cell to help you to calculate the corresponding p.\n",
    "print('p = ', Get_p_value(0.43))  \n",
    "\n",
    "\n",
    "\n",
    "# you can change 0.43 to any zp value you obtained."
   ]
  },
  {
   "cell_type": "markdown",
   "metadata": {},
   "source": [
    "Choose a training-testing trial in Experiment 2 for k=45. Observe the testing error of this 45-NN. Compare it with the 1-NN in Analysis 1. Which one has higher testing sample error? Estimate the probability that it also has higher true error. Explain your answer and how you compute it in the report.  "
   ]
  },
  {
   "cell_type": "code",
   "execution_count": 67,
   "metadata": {},
   "outputs": [
    {
     "name": "stdout",
     "output_type": "stream",
     "text": [
      "k=45 testing error rate: 0.0666\n",
      "90% confidence interval: [0.0642, 0.0689]\n",
      "45-NN has higher testing sample error than 1-NN\n"
     ]
    }
   ],
   "source": [
    "import scipy.stats as stats\n",
    "\n",
    "k = 45\n",
    "trials = 20\n",
    "k_pos = k - 1\n",
    "\n",
    "test_error_mean = np.mean(test_errors[k_pos]);test_error_std = np.std(test_errors[k_pos])\n",
    "\n",
    "# Compute the lower and upper bounds of the 90% confidence interval\n",
    "multiplier = test_error_std / np.sqrt(trials)\n",
    "critical = stats.t.ppf(0.95, df=trials-1)\n",
    "upper_bound = test_error_mean + critical * multiplier\n",
    "lower_bound = test_error_mean - critical * multiplier\n",
    "\n",
    "\n",
    "print(f\"k=45 testing error rate: {test_error_mean:.4f}\")\n",
    "print(f\"90% confidence interval: [{lower_bound:.4f}, {upper_bound:.4f}]\")\n",
    "\n",
    "# Compare with the testing error of 1-NN classifier with k=1\n",
    "k_pos = 0\n",
    "test_error_1nn = np.mean(test_errors[k_pos])\n",
    "if test_error_mean > test_error_1nn:\n",
    "    print(\"45-NN has higher testing sample error than 1-NN\")\n",
    "else:\n",
    "    print(\"1-NN has higher testing sample error than 45-NN\")\n",
    "\n",
    "\n"
   ]
  },
  {
   "cell_type": "markdown",
   "metadata": {},
   "source": [
    "## 6. Hyperparameter Selection (4 Marks, Normal)\n",
    "\n",
    "Use your k-NN function with cosine distance. Design an appropriate and complete machine learning experiment, which should include the training, hyper-parameter selection and evaluation stages. In this case, your hyperparameter will be $k$. You can choose from the random subsampling, k-fold CV and LOO approaches for hyperparameter selection. In order to get 4 marks, you should implement this from scrach without using readily implemented data-split functions provided in existing libraries. If you decide to use existing implementation on data splitting, model selection and/or evaluation, you can get at most 2 marks. \n",
    "\n",
    "Explain in the report your strategy for splitting the data, and the design of your chosen hyperparameter selection method. Present your results and chosen value of $k$. Why is it important to split the data into train, test, and validation sets in machine learning experiments? "
   ]
  },
  {
   "cell_type": "code",
   "execution_count": 69,
   "metadata": {},
   "outputs": [],
   "source": [
    "# Your code goes here.\n",
    "from sklearn.model_selection import KFold\n",
    "\n",
    "\n",
    "# Split the data into training and testing sets.\n",
    "training_indices = sample_indices(labels, 160, 160, 160, 160)\n",
    "testing_indices = np.setdiff1d(range(data.shape[0]), training_indices)\n",
    "training_data = data[training_indices]; training_labels = labels[training_indices]\n",
    "testing_data = data[testing_indices]; testing_labels = labels[testing_indices]\n",
    "\n",
    "\n",
    "\n",
    "\n"
   ]
  },
  {
   "cell_type": "code",
   "execution_count": null,
   "metadata": {},
   "outputs": [],
   "source": []
  }
 ],
 "metadata": {
  "kernelspec": {
   "display_name": "Python 3 (ipykernel)",
   "language": "python",
   "name": "python3"
  },
  "language_info": {
   "codemirror_mode": {
    "name": "ipython",
    "version": 3
   },
   "file_extension": ".py",
   "mimetype": "text/x-python",
   "name": "python",
   "nbconvert_exporter": "python",
   "pygments_lexer": "ipython3",
   "version": "3.10.6"
  },
  "vscode": {
   "interpreter": {
    "hash": "916dbcbb3f70747c44a77c7bcd40155683ae19c65e1c03b4aa3499c5328201f1"
   }
  }
 },
 "nbformat": 4,
 "nbformat_minor": 4
}
